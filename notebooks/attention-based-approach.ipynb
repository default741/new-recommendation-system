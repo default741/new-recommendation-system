{
  "cells": [
    {
      "cell_type": "code",
      "execution_count": 1,
      "metadata": {
        "id": "YzbakjlzMvBj"
      },
      "outputs": [],
      "source": [
        "import pandas as pd\n",
        "import numpy as np\n",
        "\n",
        "import spacy\n",
        "import warnings\n",
        "\n",
        "from tqdm import tqdm\n",
        "from sklearn.metrics.pairwise import cosine_similarity\n",
        "\n",
        "tqdm.pandas()\n",
        "warnings.filterwarnings('ignore')"
      ]
    },
    {
      "cell_type": "markdown",
      "metadata": {
        "id": "yYU2Nlu6MvBk"
      },
      "source": [
        "#### Training Data"
      ]
    },
    {
      "cell_type": "code",
      "execution_count": 2,
      "metadata": {},
      "outputs": [],
      "source": [
        "embeddings_model = spacy.load(\"en_core_web_trf\")"
      ]
    },
    {
      "cell_type": "code",
      "execution_count": 3,
      "metadata": {},
      "outputs": [
        {
          "data": {
            "text/html": [
              "<div>\n",
              "<style scoped>\n",
              "    .dataframe tbody tr th:only-of-type {\n",
              "        vertical-align: middle;\n",
              "    }\n",
              "\n",
              "    .dataframe tbody tr th {\n",
              "        vertical-align: top;\n",
              "    }\n",
              "\n",
              "    .dataframe thead th {\n",
              "        text-align: right;\n",
              "    }\n",
              "</style>\n",
              "<table border=\"1\" class=\"dataframe\">\n",
              "  <thead>\n",
              "    <tr style=\"text-align: right;\">\n",
              "      <th></th>\n",
              "      <th>Category</th>\n",
              "      <th>SubCategory</th>\n",
              "      <th>Context</th>\n",
              "    </tr>\n",
              "    <tr>\n",
              "      <th>News ID</th>\n",
              "      <th></th>\n",
              "      <th></th>\n",
              "      <th></th>\n",
              "    </tr>\n",
              "  </thead>\n",
              "  <tbody>\n",
              "    <tr>\n",
              "      <th>N55528</th>\n",
              "      <td>lifestyle</td>\n",
              "      <td>lifestyleroyals</td>\n",
              "      <td>The Brands Queen Elizabeth, Prince Charles, an...</td>\n",
              "    </tr>\n",
              "    <tr>\n",
              "      <th>N19639</th>\n",
              "      <td>health</td>\n",
              "      <td>weightloss</td>\n",
              "      <td>50 Worst Habits For Belly Fat These seemingly ...</td>\n",
              "    </tr>\n",
              "    <tr>\n",
              "      <th>N61837</th>\n",
              "      <td>news</td>\n",
              "      <td>newsworld</td>\n",
              "      <td>The Cost of Trump's Aid Freeze in the Trenches...</td>\n",
              "    </tr>\n",
              "    <tr>\n",
              "      <th>N53526</th>\n",
              "      <td>health</td>\n",
              "      <td>voices</td>\n",
              "      <td>I Was An NBA Wife. Here's How It Affected My M...</td>\n",
              "    </tr>\n",
              "    <tr>\n",
              "      <th>N38324</th>\n",
              "      <td>health</td>\n",
              "      <td>medical</td>\n",
              "      <td>How to Get Rid of Skin Tags, According to a De...</td>\n",
              "    </tr>\n",
              "    <tr>\n",
              "      <th>...</th>\n",
              "      <td>...</td>\n",
              "      <td>...</td>\n",
              "      <td>...</td>\n",
              "    </tr>\n",
              "    <tr>\n",
              "      <th>N16909</th>\n",
              "      <td>weather</td>\n",
              "      <td>weathertopstories</td>\n",
              "      <td>Adapting, Learning And Soul Searching: Reflect...</td>\n",
              "    </tr>\n",
              "    <tr>\n",
              "      <th>N47585</th>\n",
              "      <td>lifestyle</td>\n",
              "      <td>lifestylefamily</td>\n",
              "      <td>Family says 13-year-old Broadway star died fro...</td>\n",
              "    </tr>\n",
              "    <tr>\n",
              "      <th>N7482</th>\n",
              "      <td>sports</td>\n",
              "      <td>more_sports</td>\n",
              "      <td>St. Dominic soccer player tries to kick cancer...</td>\n",
              "    </tr>\n",
              "    <tr>\n",
              "      <th>N34418</th>\n",
              "      <td>sports</td>\n",
              "      <td>soccer_epl</td>\n",
              "      <td>How the Sounders won MLS Cup Mark, Jeremiah an...</td>\n",
              "    </tr>\n",
              "    <tr>\n",
              "      <th>N44276</th>\n",
              "      <td>autos</td>\n",
              "      <td>autossports</td>\n",
              "      <td>Best Sports Car Deals for October</td>\n",
              "    </tr>\n",
              "  </tbody>\n",
              "</table>\n",
              "<p>51282 rows × 3 columns</p>\n",
              "</div>"
            ],
            "text/plain": [
              "          Category        SubCategory  \\\n",
              "News ID                                 \n",
              "N55528   lifestyle    lifestyleroyals   \n",
              "N19639      health         weightloss   \n",
              "N61837        news          newsworld   \n",
              "N53526      health             voices   \n",
              "N38324      health            medical   \n",
              "...            ...                ...   \n",
              "N16909     weather  weathertopstories   \n",
              "N47585   lifestyle    lifestylefamily   \n",
              "N7482       sports        more_sports   \n",
              "N34418      sports         soccer_epl   \n",
              "N44276       autos        autossports   \n",
              "\n",
              "                                                   Context  \n",
              "News ID                                                     \n",
              "N55528   The Brands Queen Elizabeth, Prince Charles, an...  \n",
              "N19639   50 Worst Habits For Belly Fat These seemingly ...  \n",
              "N61837   The Cost of Trump's Aid Freeze in the Trenches...  \n",
              "N53526   I Was An NBA Wife. Here's How It Affected My M...  \n",
              "N38324   How to Get Rid of Skin Tags, According to a De...  \n",
              "...                                                    ...  \n",
              "N16909   Adapting, Learning And Soul Searching: Reflect...  \n",
              "N47585   Family says 13-year-old Broadway star died fro...  \n",
              "N7482    St. Dominic soccer player tries to kick cancer...  \n",
              "N34418   How the Sounders won MLS Cup Mark, Jeremiah an...  \n",
              "N44276                  Best Sports Car Deals for October   \n",
              "\n",
              "[51282 rows x 3 columns]"
            ]
          },
          "execution_count": 3,
          "metadata": {},
          "output_type": "execute_result"
        }
      ],
      "source": [
        "news_column_headers = [\"News ID\", \"Category\", \"SubCategory\", \"Title\", \"Abstract\", \"URL\", \"Title Entities\", \"Abstract Entities\"]\n",
        "news_data = pd.read_csv('../data/mind-news-dataset/MINDsmall_train/news.tsv', delimiter='\\t', names=news_column_headers)\n",
        "\n",
        "news_data = news_data.drop(columns=['URL', 'Title Entities', 'Abstract Entities'])\n",
        "news_data['Abstract'] = news_data['Abstract'].fillna('')\n",
        "\n",
        "news_data['Context'] = news_data['Title'] + ' ' + news_data['Abstract']\n",
        "news_data = news_data.drop(columns=[\"Title\", \"Abstract\"])\n",
        "\n",
        "news_data = news_data.set_index('News ID')\n",
        "news_data"
      ]
    },
    {
      "cell_type": "code",
      "execution_count": 4,
      "metadata": {},
      "outputs": [
        {
          "name": "stderr",
          "output_type": "stream",
          "text": [
            "100%|██████████| 51282/51282 [15:41<00:00, 54.49it/s]\n",
            "100%|██████████| 51282/51282 [16:36<00:00, 51.48it/s]\n",
            "100%|██████████| 51282/51282 [40:31<00:00, 21.09it/s]\n"
          ]
        }
      ],
      "source": [
        "def compute_embeddings(row):\n",
        "    return list(embeddings_model(row)._.trf_data.last_hidden_layer_state.data.mean(axis=0))\n",
        "\n",
        "news_data['category_embeddings'] = news_data['Category'].progress_apply(compute_embeddings)\n",
        "news_data['subcategory_embeddings'] = news_data['SubCategory'].progress_apply(compute_embeddings)\n",
        "news_data['context_embeddings'] = news_data['Context'].progress_apply(compute_embeddings)"
      ]
    },
    {
      "cell_type": "code",
      "execution_count": 5,
      "metadata": {},
      "outputs": [
        {
          "data": {
            "text/html": [
              "<div>\n",
              "<style scoped>\n",
              "    .dataframe tbody tr th:only-of-type {\n",
              "        vertical-align: middle;\n",
              "    }\n",
              "\n",
              "    .dataframe tbody tr th {\n",
              "        vertical-align: top;\n",
              "    }\n",
              "\n",
              "    .dataframe thead th {\n",
              "        text-align: right;\n",
              "    }\n",
              "</style>\n",
              "<table border=\"1\" class=\"dataframe\">\n",
              "  <thead>\n",
              "    <tr style=\"text-align: right;\">\n",
              "      <th></th>\n",
              "      <th>Category</th>\n",
              "      <th>SubCategory</th>\n",
              "      <th>Context</th>\n",
              "      <th>category_embeddings</th>\n",
              "      <th>subcategory_embeddings</th>\n",
              "      <th>context_embeddings</th>\n",
              "    </tr>\n",
              "    <tr>\n",
              "      <th>News ID</th>\n",
              "      <th></th>\n",
              "      <th></th>\n",
              "      <th></th>\n",
              "      <th></th>\n",
              "      <th></th>\n",
              "      <th></th>\n",
              "    </tr>\n",
              "  </thead>\n",
              "  <tbody>\n",
              "    <tr>\n",
              "      <th>N55528</th>\n",
              "      <td>lifestyle</td>\n",
              "      <td>lifestyleroyals</td>\n",
              "      <td>The Brands Queen Elizabeth, Prince Charles, an...</td>\n",
              "      <td>[-0.38372427, -1.547945, -0.82934594, 1.253516...</td>\n",
              "      <td>[-0.23410589, -0.9984167, -0.82643366, -0.1785...</td>\n",
              "      <td>[-0.09358272, -0.34953436, -0.19622236, -0.099...</td>\n",
              "    </tr>\n",
              "    <tr>\n",
              "      <th>N19639</th>\n",
              "      <td>health</td>\n",
              "      <td>weightloss</td>\n",
              "      <td>50 Worst Habits For Belly Fat These seemingly ...</td>\n",
              "      <td>[-0.34300137, -1.337414, -0.5679851, 1.2203748...</td>\n",
              "      <td>[-0.25600094, -1.4119117, -0.7917525, 1.027251...</td>\n",
              "      <td>[-0.1317841, -0.26250145, -0.11892246, 0.12496...</td>\n",
              "    </tr>\n",
              "    <tr>\n",
              "      <th>N61837</th>\n",
              "      <td>news</td>\n",
              "      <td>newsworld</td>\n",
              "      <td>The Cost of Trump's Aid Freeze in the Trenches...</td>\n",
              "      <td>[-0.04904593, -1.2764076, -0.6322053, 0.248834...</td>\n",
              "      <td>[0.33087507, -1.0746021, -1.1772493, -0.256131...</td>\n",
              "      <td>[-0.20576456, -0.5350486, -0.20848566, 0.07347...</td>\n",
              "    </tr>\n",
              "    <tr>\n",
              "      <th>N53526</th>\n",
              "      <td>health</td>\n",
              "      <td>voices</td>\n",
              "      <td>I Was An NBA Wife. Here's How It Affected My M...</td>\n",
              "      <td>[-0.34300137, -1.337414, -0.5679851, 1.2203748...</td>\n",
              "      <td>[0.015156612, -0.81792057, -1.4806063, 0.22450...</td>\n",
              "      <td>[-0.36664656, -0.3240311, -0.26827332, 0.00374...</td>\n",
              "    </tr>\n",
              "    <tr>\n",
              "      <th>N38324</th>\n",
              "      <td>health</td>\n",
              "      <td>medical</td>\n",
              "      <td>How to Get Rid of Skin Tags, According to a De...</td>\n",
              "      <td>[-0.34300137, -1.337414, -0.5679851, 1.2203748...</td>\n",
              "      <td>[-0.39024988, -0.3095015, -1.0689181, 0.339397...</td>\n",
              "      <td>[-0.1855902, -0.46774507, -0.17179142, 0.02046...</td>\n",
              "    </tr>\n",
              "  </tbody>\n",
              "</table>\n",
              "</div>"
            ],
            "text/plain": [
              "          Category      SubCategory  \\\n",
              "News ID                               \n",
              "N55528   lifestyle  lifestyleroyals   \n",
              "N19639      health       weightloss   \n",
              "N61837        news        newsworld   \n",
              "N53526      health           voices   \n",
              "N38324      health          medical   \n",
              "\n",
              "                                                   Context  \\\n",
              "News ID                                                      \n",
              "N55528   The Brands Queen Elizabeth, Prince Charles, an...   \n",
              "N19639   50 Worst Habits For Belly Fat These seemingly ...   \n",
              "N61837   The Cost of Trump's Aid Freeze in the Trenches...   \n",
              "N53526   I Was An NBA Wife. Here's How It Affected My M...   \n",
              "N38324   How to Get Rid of Skin Tags, According to a De...   \n",
              "\n",
              "                                       category_embeddings  \\\n",
              "News ID                                                      \n",
              "N55528   [-0.38372427, -1.547945, -0.82934594, 1.253516...   \n",
              "N19639   [-0.34300137, -1.337414, -0.5679851, 1.2203748...   \n",
              "N61837   [-0.04904593, -1.2764076, -0.6322053, 0.248834...   \n",
              "N53526   [-0.34300137, -1.337414, -0.5679851, 1.2203748...   \n",
              "N38324   [-0.34300137, -1.337414, -0.5679851, 1.2203748...   \n",
              "\n",
              "                                    subcategory_embeddings  \\\n",
              "News ID                                                      \n",
              "N55528   [-0.23410589, -0.9984167, -0.82643366, -0.1785...   \n",
              "N19639   [-0.25600094, -1.4119117, -0.7917525, 1.027251...   \n",
              "N61837   [0.33087507, -1.0746021, -1.1772493, -0.256131...   \n",
              "N53526   [0.015156612, -0.81792057, -1.4806063, 0.22450...   \n",
              "N38324   [-0.39024988, -0.3095015, -1.0689181, 0.339397...   \n",
              "\n",
              "                                        context_embeddings  \n",
              "News ID                                                     \n",
              "N55528   [-0.09358272, -0.34953436, -0.19622236, -0.099...  \n",
              "N19639   [-0.1317841, -0.26250145, -0.11892246, 0.12496...  \n",
              "N61837   [-0.20576456, -0.5350486, -0.20848566, 0.07347...  \n",
              "N53526   [-0.36664656, -0.3240311, -0.26827332, 0.00374...  \n",
              "N38324   [-0.1855902, -0.46774507, -0.17179142, 0.02046...  "
            ]
          },
          "execution_count": 5,
          "metadata": {},
          "output_type": "execute_result"
        }
      ],
      "source": [
        "news_data.head()"
      ]
    },
    {
      "cell_type": "code",
      "execution_count": 6,
      "metadata": {},
      "outputs": [
        {
          "data": {
            "text/html": [
              "<div>\n",
              "<style scoped>\n",
              "    .dataframe tbody tr th:only-of-type {\n",
              "        vertical-align: middle;\n",
              "    }\n",
              "\n",
              "    .dataframe tbody tr th {\n",
              "        vertical-align: top;\n",
              "    }\n",
              "\n",
              "    .dataframe thead th {\n",
              "        text-align: right;\n",
              "    }\n",
              "</style>\n",
              "<table border=\"1\" class=\"dataframe\">\n",
              "  <thead>\n",
              "    <tr style=\"text-align: right;\">\n",
              "      <th></th>\n",
              "      <th>User ID</th>\n",
              "      <th>History</th>\n",
              "      <th>Impressions</th>\n",
              "    </tr>\n",
              "  </thead>\n",
              "  <tbody>\n",
              "    <tr>\n",
              "      <th>0</th>\n",
              "      <td>U100</td>\n",
              "      <td>[N53465, N50095, N55743, N20121, N42330, N2057...</td>\n",
              "      <td>[N7800]</td>\n",
              "    </tr>\n",
              "    <tr>\n",
              "      <th>1</th>\n",
              "      <td>U1000</td>\n",
              "      <td>[N41244, N29641, N1789]</td>\n",
              "      <td>[N29739, N7670, N58656, N53875]</td>\n",
              "    </tr>\n",
              "    <tr>\n",
              "      <th>2</th>\n",
              "      <td>U10001</td>\n",
              "      <td>[N56814, N51706, N20639, N47937, N34562, N5644...</td>\n",
              "      <td>[N1031, N10833, N35937]</td>\n",
              "    </tr>\n",
              "    <tr>\n",
              "      <th>3</th>\n",
              "      <td>U10003</td>\n",
              "      <td>[N26619, N31431, N41668, N61052, N39074, N2825...</td>\n",
              "      <td>[N18708, N57090, N55689]</td>\n",
              "    </tr>\n",
              "    <tr>\n",
              "      <th>4</th>\n",
              "      <td>U10008</td>\n",
              "      <td>[N40977, N46754, N30148, N63422, N32312, N6000...</td>\n",
              "      <td>[N15405]</td>\n",
              "    </tr>\n",
              "    <tr>\n",
              "      <th>...</th>\n",
              "      <td>...</td>\n",
              "      <td>...</td>\n",
              "      <td>...</td>\n",
              "    </tr>\n",
              "    <tr>\n",
              "      <th>49103</th>\n",
              "      <td>U9993</td>\n",
              "      <td>[N47458, N14114]</td>\n",
              "      <td>[N22257, N30648]</td>\n",
              "    </tr>\n",
              "    <tr>\n",
              "      <th>49104</th>\n",
              "      <td>U9995</td>\n",
              "      <td>[N48449, N49289, N2186, N18132, N15501, N47873...</td>\n",
              "      <td>[N11817, N37204, N57426, N19444, N10812, N4714...</td>\n",
              "    </tr>\n",
              "    <tr>\n",
              "      <th>49105</th>\n",
              "      <td>U9996</td>\n",
              "      <td>[N28296, N8448, N60340, N4719, N31165]</td>\n",
              "      <td>[N287, N47098, N23446]</td>\n",
              "    </tr>\n",
              "    <tr>\n",
              "      <th>49106</th>\n",
              "      <td>U9997</td>\n",
              "      <td>[N55285, N38367, N11929, N90, N46990, N11727, ...</td>\n",
              "      <td>[N48410, N35738, N39269, N23081, N16502, N4245...</td>\n",
              "    </tr>\n",
              "    <tr>\n",
              "      <th>49107</th>\n",
              "      <td>U9999</td>\n",
              "      <td>[N4486, N54327, N40944, N40977, N14417, N26026...</td>\n",
              "      <td>[N26706, N23085, N61022]</td>\n",
              "    </tr>\n",
              "  </tbody>\n",
              "</table>\n",
              "<p>49108 rows × 3 columns</p>\n",
              "</div>"
            ],
            "text/plain": [
              "      User ID                                            History  \\\n",
              "0        U100  [N53465, N50095, N55743, N20121, N42330, N2057...   \n",
              "1       U1000                            [N41244, N29641, N1789]   \n",
              "2      U10001  [N56814, N51706, N20639, N47937, N34562, N5644...   \n",
              "3      U10003  [N26619, N31431, N41668, N61052, N39074, N2825...   \n",
              "4      U10008  [N40977, N46754, N30148, N63422, N32312, N6000...   \n",
              "...       ...                                                ...   \n",
              "49103   U9993                                   [N47458, N14114]   \n",
              "49104   U9995  [N48449, N49289, N2186, N18132, N15501, N47873...   \n",
              "49105   U9996             [N28296, N8448, N60340, N4719, N31165]   \n",
              "49106   U9997  [N55285, N38367, N11929, N90, N46990, N11727, ...   \n",
              "49107   U9999  [N4486, N54327, N40944, N40977, N14417, N26026...   \n",
              "\n",
              "                                             Impressions  \n",
              "0                                                [N7800]  \n",
              "1                        [N29739, N7670, N58656, N53875]  \n",
              "2                                [N1031, N10833, N35937]  \n",
              "3                               [N18708, N57090, N55689]  \n",
              "4                                               [N15405]  \n",
              "...                                                  ...  \n",
              "49103                                   [N22257, N30648]  \n",
              "49104  [N11817, N37204, N57426, N19444, N10812, N4714...  \n",
              "49105                             [N287, N47098, N23446]  \n",
              "49106  [N48410, N35738, N39269, N23081, N16502, N4245...  \n",
              "49107                           [N26706, N23085, N61022]  \n",
              "\n",
              "[49108 rows x 3 columns]"
            ]
          },
          "execution_count": 6,
          "metadata": {},
          "output_type": "execute_result"
        }
      ],
      "source": [
        "behaviour_column_headers = [\"Impression ID\", \"User ID\", \"Time\", \"History\", \"Impressions\"]\n",
        "\n",
        "customer_behaviour_data = pd.read_csv(\n",
        "    '../data/mind-news-dataset/MINDsmall_train/behaviors.tsv', delimiter='\\t', names=behaviour_column_headers).dropna(subset=['History'])\n",
        "\n",
        "customer_behaviour_data['History'] = customer_behaviour_data['History'].str.split(' ')\n",
        "customer_behaviour_data['Impressions'] = customer_behaviour_data['Impressions'].str.split(' ')\n",
        "\n",
        "def clean_impressions(impression_list):\n",
        "    return [x.split('-')[0] for x in impression_list if x.endswith('1')]\n",
        "\n",
        "customer_behaviour_data['Impressions'] = customer_behaviour_data['Impressions'].apply(clean_impressions)\n",
        "customer_behaviour_data = customer_behaviour_data.drop(columns=['Impression ID', 'Time'])\n",
        "\n",
        "impression_data = customer_behaviour_data.groupby('User ID', as_index=False)['Impressions'].agg(lambda x: [item for sublist in x for item in sublist])\n",
        "user_history_data = customer_behaviour_data.groupby('User ID', as_index=False)['History'].agg(lambda x: list(set().union(*x)))\n",
        "\n",
        "customer_behaviour_data = pd.merge(user_history_data, impression_data, on='User ID', how='left')\n",
        "customer_behaviour_data"
      ]
    },
    {
      "cell_type": "code",
      "execution_count": 7,
      "metadata": {},
      "outputs": [
        {
          "name": "stderr",
          "output_type": "stream",
          "text": [
            "100%|██████████| 49108/49108 [02:33<00:00, 320.07it/s]\n"
          ]
        },
        {
          "data": {
            "text/html": [
              "<div>\n",
              "<style scoped>\n",
              "    .dataframe tbody tr th:only-of-type {\n",
              "        vertical-align: middle;\n",
              "    }\n",
              "\n",
              "    .dataframe tbody tr th {\n",
              "        vertical-align: top;\n",
              "    }\n",
              "\n",
              "    .dataframe thead th {\n",
              "        text-align: right;\n",
              "    }\n",
              "</style>\n",
              "<table border=\"1\" class=\"dataframe\">\n",
              "  <thead>\n",
              "    <tr style=\"text-align: right;\">\n",
              "      <th></th>\n",
              "      <th>User ID</th>\n",
              "      <th>History</th>\n",
              "      <th>Impressions</th>\n",
              "      <th>user_profile</th>\n",
              "    </tr>\n",
              "  </thead>\n",
              "  <tbody>\n",
              "    <tr>\n",
              "      <th>0</th>\n",
              "      <td>U100</td>\n",
              "      <td>[N53465, N50095, N55743, N20121, N42330, N2057...</td>\n",
              "      <td>[N7800]</td>\n",
              "      <td>{'category': [-0.22084086, -1.3919017, -0.8351...</td>\n",
              "    </tr>\n",
              "    <tr>\n",
              "      <th>1</th>\n",
              "      <td>U1000</td>\n",
              "      <td>[N41244, N29641, N1789]</td>\n",
              "      <td>[N29739, N7670, N58656, N53875]</td>\n",
              "      <td>{'category': [-0.424755, -1.4512954, -0.812635...</td>\n",
              "    </tr>\n",
              "    <tr>\n",
              "      <th>2</th>\n",
              "      <td>U10001</td>\n",
              "      <td>[N56814, N51706, N20639, N47937, N34562, N5644...</td>\n",
              "      <td>[N1031, N10833, N35937]</td>\n",
              "      <td>{'category': [0.11339963, -0.9142725, -0.90669...</td>\n",
              "    </tr>\n",
              "    <tr>\n",
              "      <th>3</th>\n",
              "      <td>U10003</td>\n",
              "      <td>[N26619, N31431, N41668, N61052, N39074, N2825...</td>\n",
              "      <td>[N18708, N57090, N55689]</td>\n",
              "      <td>{'category': [-0.092008725, -1.2081567, -0.813...</td>\n",
              "    </tr>\n",
              "    <tr>\n",
              "      <th>4</th>\n",
              "      <td>U10008</td>\n",
              "      <td>[N40977, N46754, N30148, N63422, N32312, N6000...</td>\n",
              "      <td>[N15405]</td>\n",
              "      <td>{'category': [-0.11400258, -1.344169, -0.66041...</td>\n",
              "    </tr>\n",
              "    <tr>\n",
              "      <th>...</th>\n",
              "      <td>...</td>\n",
              "      <td>...</td>\n",
              "      <td>...</td>\n",
              "      <td>...</td>\n",
              "    </tr>\n",
              "    <tr>\n",
              "      <th>49103</th>\n",
              "      <td>U9993</td>\n",
              "      <td>[N47458, N14114]</td>\n",
              "      <td>[N22257, N30648]</td>\n",
              "      <td>{'category': [-0.27062765, -1.283045, -0.47168...</td>\n",
              "    </tr>\n",
              "    <tr>\n",
              "      <th>49104</th>\n",
              "      <td>U9995</td>\n",
              "      <td>[N48449, N49289, N2186, N18132, N15501, N47873...</td>\n",
              "      <td>[N11817, N37204, N57426, N19444, N10812, N4714...</td>\n",
              "      <td>{'category': [-0.09834073, -1.486022, -0.75745...</td>\n",
              "    </tr>\n",
              "    <tr>\n",
              "      <th>49105</th>\n",
              "      <td>U9996</td>\n",
              "      <td>[N28296, N8448, N60340, N4719, N31165]</td>\n",
              "      <td>[N287, N47098, N23446]</td>\n",
              "      <td>{'category': [-0.33215192, -1.4870102, -0.7542...</td>\n",
              "    </tr>\n",
              "    <tr>\n",
              "      <th>49106</th>\n",
              "      <td>U9997</td>\n",
              "      <td>[N55285, N38367, N11929, N90, N46990, N11727, ...</td>\n",
              "      <td>[N48410, N35738, N39269, N23081, N16502, N4245...</td>\n",
              "      <td>{'category': [-0.1354178, -1.5284661, -0.96939...</td>\n",
              "    </tr>\n",
              "    <tr>\n",
              "      <th>49107</th>\n",
              "      <td>U9999</td>\n",
              "      <td>[N4486, N54327, N40944, N40977, N14417, N26026...</td>\n",
              "      <td>[N26706, N23085, N61022]</td>\n",
              "      <td>{'category': [-0.07556707, -1.2913347, -0.7177...</td>\n",
              "    </tr>\n",
              "  </tbody>\n",
              "</table>\n",
              "<p>49108 rows × 4 columns</p>\n",
              "</div>"
            ],
            "text/plain": [
              "      User ID                                            History  \\\n",
              "0        U100  [N53465, N50095, N55743, N20121, N42330, N2057...   \n",
              "1       U1000                            [N41244, N29641, N1789]   \n",
              "2      U10001  [N56814, N51706, N20639, N47937, N34562, N5644...   \n",
              "3      U10003  [N26619, N31431, N41668, N61052, N39074, N2825...   \n",
              "4      U10008  [N40977, N46754, N30148, N63422, N32312, N6000...   \n",
              "...       ...                                                ...   \n",
              "49103   U9993                                   [N47458, N14114]   \n",
              "49104   U9995  [N48449, N49289, N2186, N18132, N15501, N47873...   \n",
              "49105   U9996             [N28296, N8448, N60340, N4719, N31165]   \n",
              "49106   U9997  [N55285, N38367, N11929, N90, N46990, N11727, ...   \n",
              "49107   U9999  [N4486, N54327, N40944, N40977, N14417, N26026...   \n",
              "\n",
              "                                             Impressions  \\\n",
              "0                                                [N7800]   \n",
              "1                        [N29739, N7670, N58656, N53875]   \n",
              "2                                [N1031, N10833, N35937]   \n",
              "3                               [N18708, N57090, N55689]   \n",
              "4                                               [N15405]   \n",
              "...                                                  ...   \n",
              "49103                                   [N22257, N30648]   \n",
              "49104  [N11817, N37204, N57426, N19444, N10812, N4714...   \n",
              "49105                             [N287, N47098, N23446]   \n",
              "49106  [N48410, N35738, N39269, N23081, N16502, N4245...   \n",
              "49107                           [N26706, N23085, N61022]   \n",
              "\n",
              "                                            user_profile  \n",
              "0      {'category': [-0.22084086, -1.3919017, -0.8351...  \n",
              "1      {'category': [-0.424755, -1.4512954, -0.812635...  \n",
              "2      {'category': [0.11339963, -0.9142725, -0.90669...  \n",
              "3      {'category': [-0.092008725, -1.2081567, -0.813...  \n",
              "4      {'category': [-0.11400258, -1.344169, -0.66041...  \n",
              "...                                                  ...  \n",
              "49103  {'category': [-0.27062765, -1.283045, -0.47168...  \n",
              "49104  {'category': [-0.09834073, -1.486022, -0.75745...  \n",
              "49105  {'category': [-0.33215192, -1.4870102, -0.7542...  \n",
              "49106  {'category': [-0.1354178, -1.5284661, -0.96939...  \n",
              "49107  {'category': [-0.07556707, -1.2913347, -0.7177...  \n",
              "\n",
              "[49108 rows x 4 columns]"
            ]
          },
          "execution_count": 7,
          "metadata": {},
          "output_type": "execute_result"
        }
      ],
      "source": [
        "def compute_user_profile(history):\n",
        "    user_news_history = news_data[news_data.index.isin(history)][['category_embeddings', 'subcategory_embeddings', 'context_embeddings']]\n",
        "\n",
        "    return {'category': np.stack(user_news_history['category_embeddings'].values).mean(axis=0),\n",
        "            'subcategory': np.stack(user_news_history['subcategory_embeddings'].values).mean(axis=0),\n",
        "            'context': np.stack(user_news_history['context_embeddings'].values).mean(axis=0)}\n",
        "\n",
        "customer_behaviour_data['user_profile'] = customer_behaviour_data['History'].progress_apply(compute_user_profile)\n",
        "customer_behaviour_data"
      ]
    },
    {
      "cell_type": "code",
      "execution_count": 10,
      "metadata": {},
      "outputs": [],
      "source": [
        "customer_behaviour_data = customer_behaviour_data.iloc[:100]"
      ]
    },
    {
      "cell_type": "code",
      "execution_count": 11,
      "metadata": {},
      "outputs": [
        {
          "name": "stderr",
          "output_type": "stream",
          "text": [
            " 15%|█▌        | 15/100 [00:53<05:03,  3.57s/it]\n"
          ]
        },
        {
          "ename": "KeyboardInterrupt",
          "evalue": "",
          "output_type": "error",
          "traceback": [
            "\u001b[1;31m---------------------------------------------------------------------------\u001b[0m",
            "\u001b[1;31mKeyboardInterrupt\u001b[0m                         Traceback (most recent call last)",
            "Cell \u001b[1;32mIn[11], line 22\u001b[0m\n\u001b[0;32m     17\u001b[0m     user_profile \u001b[38;5;241m=\u001b[39m (row[\u001b[38;5;124m'\u001b[39m\u001b[38;5;124muser_profile\u001b[39m\u001b[38;5;124m'\u001b[39m][\u001b[38;5;124m'\u001b[39m\u001b[38;5;124mcategory\u001b[39m\u001b[38;5;124m'\u001b[39m] \u001b[38;5;241m+\u001b[39m row[\u001b[38;5;124m'\u001b[39m\u001b[38;5;124muser_profile\u001b[39m\u001b[38;5;124m'\u001b[39m][\u001b[38;5;124m'\u001b[39m\u001b[38;5;124msubcategory\u001b[39m\u001b[38;5;124m'\u001b[39m] \u001b[38;5;241m+\u001b[39m row[\u001b[38;5;124m'\u001b[39m\u001b[38;5;124muser_profile\u001b[39m\u001b[38;5;124m'\u001b[39m][\u001b[38;5;124m'\u001b[39m\u001b[38;5;124mcontext\u001b[39m\u001b[38;5;124m'\u001b[39m]) \u001b[38;5;241m/\u001b[39m \u001b[38;5;241m3\u001b[39m\n\u001b[0;32m     19\u001b[0m     \u001b[38;5;28;01mreturn\u001b[39;00m \u001b[38;5;28mlist\u001b[39m(news_data\u001b[38;5;241m.\u001b[39mindex[np\u001b[38;5;241m.\u001b[39margsort(cosine_similarity([user_profile], attention_weighted_embeddings)[\u001b[38;5;241m0\u001b[39m])[:\u001b[38;5;241m20\u001b[39m]])\n\u001b[1;32m---> 22\u001b[0m customer_behaviour_data[\u001b[38;5;124m'\u001b[39m\u001b[38;5;124mRecommended Articles\u001b[39m\u001b[38;5;124m'\u001b[39m] \u001b[38;5;241m=\u001b[39m \u001b[43mcustomer_behaviour_data\u001b[49m\u001b[38;5;241;43m.\u001b[39;49m\u001b[43mprogress_apply\u001b[49m\u001b[43m(\u001b[49m\u001b[43mrecommend_user_attention\u001b[49m\u001b[43m,\u001b[49m\u001b[43m \u001b[49m\u001b[43maxis\u001b[49m\u001b[38;5;241;43m=\u001b[39;49m\u001b[38;5;241;43m1\u001b[39;49m\u001b[43m)\u001b[49m\n\u001b[0;32m     23\u001b[0m user_impression_data \u001b[38;5;241m=\u001b[39m customer_behaviour_data\u001b[38;5;241m.\u001b[39mdrop(columns\u001b[38;5;241m=\u001b[39m[\u001b[38;5;124m'\u001b[39m\u001b[38;5;124mHistory\u001b[39m\u001b[38;5;124m'\u001b[39m, \u001b[38;5;124m'\u001b[39m\u001b[38;5;124muser_profile\u001b[39m\u001b[38;5;124m'\u001b[39m])\n\u001b[0;32m     24\u001b[0m user_impression_data\n",
            "File \u001b[1;32mc:\\Users\\abdem\\miniconda3\\envs\\recom-env\\Lib\\site-packages\\tqdm\\std.py:917\u001b[0m, in \u001b[0;36mtqdm.pandas.<locals>.inner_generator.<locals>.inner\u001b[1;34m(df, func, *args, **kwargs)\u001b[0m\n\u001b[0;32m    914\u001b[0m \u001b[38;5;66;03m# Apply the provided function (in **kwargs)\u001b[39;00m\n\u001b[0;32m    915\u001b[0m \u001b[38;5;66;03m# on the df using our wrapper (which provides bar updating)\u001b[39;00m\n\u001b[0;32m    916\u001b[0m \u001b[38;5;28;01mtry\u001b[39;00m:\n\u001b[1;32m--> 917\u001b[0m     \u001b[38;5;28;01mreturn\u001b[39;00m \u001b[38;5;28;43mgetattr\u001b[39;49m\u001b[43m(\u001b[49m\u001b[43mdf\u001b[49m\u001b[43m,\u001b[49m\u001b[43m \u001b[49m\u001b[43mdf_function\u001b[49m\u001b[43m)\u001b[49m\u001b[43m(\u001b[49m\u001b[43mwrapper\u001b[49m\u001b[43m,\u001b[49m\u001b[43m \u001b[49m\u001b[38;5;241;43m*\u001b[39;49m\u001b[38;5;241;43m*\u001b[39;49m\u001b[43mkwargs\u001b[49m\u001b[43m)\u001b[49m\n\u001b[0;32m    918\u001b[0m \u001b[38;5;28;01mfinally\u001b[39;00m:\n\u001b[0;32m    919\u001b[0m     t\u001b[38;5;241m.\u001b[39mclose()\n",
            "File \u001b[1;32mc:\\Users\\abdem\\miniconda3\\envs\\recom-env\\Lib\\site-packages\\pandas\\core\\frame.py:10374\u001b[0m, in \u001b[0;36mDataFrame.apply\u001b[1;34m(self, func, axis, raw, result_type, args, by_row, engine, engine_kwargs, **kwargs)\u001b[0m\n\u001b[0;32m  10360\u001b[0m \u001b[38;5;28;01mfrom\u001b[39;00m \u001b[38;5;21;01mpandas\u001b[39;00m\u001b[38;5;21;01m.\u001b[39;00m\u001b[38;5;21;01mcore\u001b[39;00m\u001b[38;5;21;01m.\u001b[39;00m\u001b[38;5;21;01mapply\u001b[39;00m \u001b[38;5;28;01mimport\u001b[39;00m frame_apply\n\u001b[0;32m  10362\u001b[0m op \u001b[38;5;241m=\u001b[39m frame_apply(\n\u001b[0;32m  10363\u001b[0m     \u001b[38;5;28mself\u001b[39m,\n\u001b[0;32m  10364\u001b[0m     func\u001b[38;5;241m=\u001b[39mfunc,\n\u001b[1;32m   (...)\u001b[0m\n\u001b[0;32m  10372\u001b[0m     kwargs\u001b[38;5;241m=\u001b[39mkwargs,\n\u001b[0;32m  10373\u001b[0m )\n\u001b[1;32m> 10374\u001b[0m \u001b[38;5;28;01mreturn\u001b[39;00m \u001b[43mop\u001b[49m\u001b[38;5;241;43m.\u001b[39;49m\u001b[43mapply\u001b[49m\u001b[43m(\u001b[49m\u001b[43m)\u001b[49m\u001b[38;5;241m.\u001b[39m__finalize__(\u001b[38;5;28mself\u001b[39m, method\u001b[38;5;241m=\u001b[39m\u001b[38;5;124m\"\u001b[39m\u001b[38;5;124mapply\u001b[39m\u001b[38;5;124m\"\u001b[39m)\n",
            "File \u001b[1;32mc:\\Users\\abdem\\miniconda3\\envs\\recom-env\\Lib\\site-packages\\pandas\\core\\apply.py:916\u001b[0m, in \u001b[0;36mFrameApply.apply\u001b[1;34m(self)\u001b[0m\n\u001b[0;32m    913\u001b[0m \u001b[38;5;28;01melif\u001b[39;00m \u001b[38;5;28mself\u001b[39m\u001b[38;5;241m.\u001b[39mraw:\n\u001b[0;32m    914\u001b[0m     \u001b[38;5;28;01mreturn\u001b[39;00m \u001b[38;5;28mself\u001b[39m\u001b[38;5;241m.\u001b[39mapply_raw(engine\u001b[38;5;241m=\u001b[39m\u001b[38;5;28mself\u001b[39m\u001b[38;5;241m.\u001b[39mengine, engine_kwargs\u001b[38;5;241m=\u001b[39m\u001b[38;5;28mself\u001b[39m\u001b[38;5;241m.\u001b[39mengine_kwargs)\n\u001b[1;32m--> 916\u001b[0m \u001b[38;5;28;01mreturn\u001b[39;00m \u001b[38;5;28;43mself\u001b[39;49m\u001b[38;5;241;43m.\u001b[39;49m\u001b[43mapply_standard\u001b[49m\u001b[43m(\u001b[49m\u001b[43m)\u001b[49m\n",
            "File \u001b[1;32mc:\\Users\\abdem\\miniconda3\\envs\\recom-env\\Lib\\site-packages\\pandas\\core\\apply.py:1063\u001b[0m, in \u001b[0;36mFrameApply.apply_standard\u001b[1;34m(self)\u001b[0m\n\u001b[0;32m   1061\u001b[0m \u001b[38;5;28;01mdef\u001b[39;00m \u001b[38;5;21mapply_standard\u001b[39m(\u001b[38;5;28mself\u001b[39m):\n\u001b[0;32m   1062\u001b[0m     \u001b[38;5;28;01mif\u001b[39;00m \u001b[38;5;28mself\u001b[39m\u001b[38;5;241m.\u001b[39mengine \u001b[38;5;241m==\u001b[39m \u001b[38;5;124m\"\u001b[39m\u001b[38;5;124mpython\u001b[39m\u001b[38;5;124m\"\u001b[39m:\n\u001b[1;32m-> 1063\u001b[0m         results, res_index \u001b[38;5;241m=\u001b[39m \u001b[38;5;28;43mself\u001b[39;49m\u001b[38;5;241;43m.\u001b[39;49m\u001b[43mapply_series_generator\u001b[49m\u001b[43m(\u001b[49m\u001b[43m)\u001b[49m\n\u001b[0;32m   1064\u001b[0m     \u001b[38;5;28;01melse\u001b[39;00m:\n\u001b[0;32m   1065\u001b[0m         results, res_index \u001b[38;5;241m=\u001b[39m \u001b[38;5;28mself\u001b[39m\u001b[38;5;241m.\u001b[39mapply_series_numba()\n",
            "File \u001b[1;32mc:\\Users\\abdem\\miniconda3\\envs\\recom-env\\Lib\\site-packages\\pandas\\core\\apply.py:1081\u001b[0m, in \u001b[0;36mFrameApply.apply_series_generator\u001b[1;34m(self)\u001b[0m\n\u001b[0;32m   1078\u001b[0m \u001b[38;5;28;01mwith\u001b[39;00m option_context(\u001b[38;5;124m\"\u001b[39m\u001b[38;5;124mmode.chained_assignment\u001b[39m\u001b[38;5;124m\"\u001b[39m, \u001b[38;5;28;01mNone\u001b[39;00m):\n\u001b[0;32m   1079\u001b[0m     \u001b[38;5;28;01mfor\u001b[39;00m i, v \u001b[38;5;129;01min\u001b[39;00m \u001b[38;5;28menumerate\u001b[39m(series_gen):\n\u001b[0;32m   1080\u001b[0m         \u001b[38;5;66;03m# ignore SettingWithCopy here in case the user mutates\u001b[39;00m\n\u001b[1;32m-> 1081\u001b[0m         results[i] \u001b[38;5;241m=\u001b[39m \u001b[38;5;28;43mself\u001b[39;49m\u001b[38;5;241;43m.\u001b[39;49m\u001b[43mfunc\u001b[49m\u001b[43m(\u001b[49m\u001b[43mv\u001b[49m\u001b[43m,\u001b[49m\u001b[43m \u001b[49m\u001b[38;5;241;43m*\u001b[39;49m\u001b[38;5;28;43mself\u001b[39;49m\u001b[38;5;241;43m.\u001b[39;49m\u001b[43margs\u001b[49m\u001b[43m,\u001b[49m\u001b[43m \u001b[49m\u001b[38;5;241;43m*\u001b[39;49m\u001b[38;5;241;43m*\u001b[39;49m\u001b[38;5;28;43mself\u001b[39;49m\u001b[38;5;241;43m.\u001b[39;49m\u001b[43mkwargs\u001b[49m\u001b[43m)\u001b[49m\n\u001b[0;32m   1082\u001b[0m         \u001b[38;5;28;01mif\u001b[39;00m \u001b[38;5;28misinstance\u001b[39m(results[i], ABCSeries):\n\u001b[0;32m   1083\u001b[0m             \u001b[38;5;66;03m# If we have a view on v, we need to make a copy because\u001b[39;00m\n\u001b[0;32m   1084\u001b[0m             \u001b[38;5;66;03m#  series_generator will swap out the underlying data\u001b[39;00m\n\u001b[0;32m   1085\u001b[0m             results[i] \u001b[38;5;241m=\u001b[39m results[i]\u001b[38;5;241m.\u001b[39mcopy(deep\u001b[38;5;241m=\u001b[39m\u001b[38;5;28;01mFalse\u001b[39;00m)\n",
            "File \u001b[1;32mc:\\Users\\abdem\\miniconda3\\envs\\recom-env\\Lib\\site-packages\\tqdm\\std.py:912\u001b[0m, in \u001b[0;36mtqdm.pandas.<locals>.inner_generator.<locals>.inner.<locals>.wrapper\u001b[1;34m(*args, **kwargs)\u001b[0m\n\u001b[0;32m    906\u001b[0m \u001b[38;5;28;01mdef\u001b[39;00m \u001b[38;5;21mwrapper\u001b[39m(\u001b[38;5;241m*\u001b[39margs, \u001b[38;5;241m*\u001b[39m\u001b[38;5;241m*\u001b[39mkwargs):\n\u001b[0;32m    907\u001b[0m     \u001b[38;5;66;03m# update tbar correctly\u001b[39;00m\n\u001b[0;32m    908\u001b[0m     \u001b[38;5;66;03m# it seems `pandas apply` calls `func` twice\u001b[39;00m\n\u001b[0;32m    909\u001b[0m     \u001b[38;5;66;03m# on the first column/row to decide whether it can\u001b[39;00m\n\u001b[0;32m    910\u001b[0m     \u001b[38;5;66;03m# take a fast or slow code path; so stop when t.total==t.n\u001b[39;00m\n\u001b[0;32m    911\u001b[0m     t\u001b[38;5;241m.\u001b[39mupdate(n\u001b[38;5;241m=\u001b[39m\u001b[38;5;241m1\u001b[39m \u001b[38;5;28;01mif\u001b[39;00m \u001b[38;5;129;01mnot\u001b[39;00m t\u001b[38;5;241m.\u001b[39mtotal \u001b[38;5;129;01mor\u001b[39;00m t\u001b[38;5;241m.\u001b[39mn \u001b[38;5;241m<\u001b[39m t\u001b[38;5;241m.\u001b[39mtotal \u001b[38;5;28;01melse\u001b[39;00m \u001b[38;5;241m0\u001b[39m)\n\u001b[1;32m--> 912\u001b[0m     \u001b[38;5;28;01mreturn\u001b[39;00m \u001b[43mfunc\u001b[49m\u001b[43m(\u001b[49m\u001b[38;5;241;43m*\u001b[39;49m\u001b[43margs\u001b[49m\u001b[43m,\u001b[49m\u001b[43m \u001b[49m\u001b[38;5;241;43m*\u001b[39;49m\u001b[38;5;241;43m*\u001b[39;49m\u001b[43mkwargs\u001b[49m\u001b[43m)\u001b[49m\n",
            "Cell \u001b[1;32mIn[11], line 9\u001b[0m, in \u001b[0;36mrecommend_user_attention\u001b[1;34m(row)\u001b[0m\n\u001b[0;32m      3\u001b[0m subcategory_embeddings \u001b[38;5;241m=\u001b[39m np\u001b[38;5;241m.\u001b[39mstack(news_data[\u001b[38;5;124m'\u001b[39m\u001b[38;5;124mcategory_embeddings\u001b[39m\u001b[38;5;124m'\u001b[39m]\u001b[38;5;241m.\u001b[39mvalues)\n\u001b[0;32m      4\u001b[0m context_embeddings \u001b[38;5;241m=\u001b[39m np\u001b[38;5;241m.\u001b[39mstack(news_data[\u001b[38;5;124m'\u001b[39m\u001b[38;5;124mcategory_embeddings\u001b[39m\u001b[38;5;124m'\u001b[39m]\u001b[38;5;241m.\u001b[39mvalues)\n\u001b[0;32m      6\u001b[0m user_item_similarity_matrix \u001b[38;5;241m=\u001b[39m np\u001b[38;5;241m.\u001b[39marray([\n\u001b[0;32m      7\u001b[0m     cosine_similarity([row[\u001b[38;5;124m'\u001b[39m\u001b[38;5;124muser_profile\u001b[39m\u001b[38;5;124m'\u001b[39m][\u001b[38;5;124m'\u001b[39m\u001b[38;5;124mcategory\u001b[39m\u001b[38;5;124m'\u001b[39m]], category_embeddings)[\u001b[38;5;241m0\u001b[39m],\n\u001b[0;32m      8\u001b[0m     cosine_similarity([row[\u001b[38;5;124m'\u001b[39m\u001b[38;5;124muser_profile\u001b[39m\u001b[38;5;124m'\u001b[39m][\u001b[38;5;124m'\u001b[39m\u001b[38;5;124msubcategory\u001b[39m\u001b[38;5;124m'\u001b[39m]], subcategory_embeddings)[\u001b[38;5;241m0\u001b[39m],\n\u001b[1;32m----> 9\u001b[0m     \u001b[43mcosine_similarity\u001b[49m\u001b[43m(\u001b[49m\u001b[43m[\u001b[49m\u001b[43mrow\u001b[49m\u001b[43m[\u001b[49m\u001b[38;5;124;43m'\u001b[39;49m\u001b[38;5;124;43muser_profile\u001b[39;49m\u001b[38;5;124;43m'\u001b[39;49m\u001b[43m]\u001b[49m\u001b[43m[\u001b[49m\u001b[38;5;124;43m'\u001b[39;49m\u001b[38;5;124;43mcontext\u001b[39;49m\u001b[38;5;124;43m'\u001b[39;49m\u001b[43m]\u001b[49m\u001b[43m]\u001b[49m\u001b[43m,\u001b[49m\u001b[43m \u001b[49m\u001b[43mcontext_embeddings\u001b[49m\u001b[43m)\u001b[49m[\u001b[38;5;241m0\u001b[39m]])\n\u001b[0;32m     11\u001b[0m attention_weight \u001b[38;5;241m=\u001b[39m (np\u001b[38;5;241m.\u001b[39mexp(user_item_similarity_matrix) \u001b[38;5;241m/\u001b[39m np\u001b[38;5;241m.\u001b[39msum(np\u001b[38;5;241m.\u001b[39mexp(user_item_similarity_matrix), axis\u001b[38;5;241m=\u001b[39m\u001b[38;5;241m0\u001b[39m))\u001b[38;5;241m.\u001b[39mT\n\u001b[0;32m     13\u001b[0m attention_weighted_embeddings \u001b[38;5;241m=\u001b[39m ((attention_weight[:, \u001b[38;5;241m0\u001b[39m]\u001b[38;5;241m.\u001b[39mreshape(\u001b[38;5;241m-\u001b[39m\u001b[38;5;241m1\u001b[39m, \u001b[38;5;241m1\u001b[39m) \u001b[38;5;241m*\u001b[39m category_embeddings) \u001b[38;5;241m+\u001b[39m\n\u001b[0;32m     14\u001b[0m                (attention_weight[:, \u001b[38;5;241m1\u001b[39m]\u001b[38;5;241m.\u001b[39mreshape(\u001b[38;5;241m-\u001b[39m\u001b[38;5;241m1\u001b[39m, \u001b[38;5;241m1\u001b[39m) \u001b[38;5;241m*\u001b[39m subcategory_embeddings) \u001b[38;5;241m+\u001b[39m\n\u001b[0;32m     15\u001b[0m                (attention_weight[:, \u001b[38;5;241m2\u001b[39m]\u001b[38;5;241m.\u001b[39mreshape(\u001b[38;5;241m-\u001b[39m\u001b[38;5;241m1\u001b[39m, \u001b[38;5;241m1\u001b[39m) \u001b[38;5;241m*\u001b[39m context_embeddings))\n",
            "File \u001b[1;32mc:\\Users\\abdem\\miniconda3\\envs\\recom-env\\Lib\\site-packages\\sklearn\\utils\\_param_validation.py:213\u001b[0m, in \u001b[0;36mvalidate_params.<locals>.decorator.<locals>.wrapper\u001b[1;34m(*args, **kwargs)\u001b[0m\n\u001b[0;32m    207\u001b[0m \u001b[38;5;28;01mtry\u001b[39;00m:\n\u001b[0;32m    208\u001b[0m     \u001b[38;5;28;01mwith\u001b[39;00m config_context(\n\u001b[0;32m    209\u001b[0m         skip_parameter_validation\u001b[38;5;241m=\u001b[39m(\n\u001b[0;32m    210\u001b[0m             prefer_skip_nested_validation \u001b[38;5;129;01mor\u001b[39;00m global_skip_validation\n\u001b[0;32m    211\u001b[0m         )\n\u001b[0;32m    212\u001b[0m     ):\n\u001b[1;32m--> 213\u001b[0m         \u001b[38;5;28;01mreturn\u001b[39;00m \u001b[43mfunc\u001b[49m\u001b[43m(\u001b[49m\u001b[38;5;241;43m*\u001b[39;49m\u001b[43margs\u001b[49m\u001b[43m,\u001b[49m\u001b[43m \u001b[49m\u001b[38;5;241;43m*\u001b[39;49m\u001b[38;5;241;43m*\u001b[39;49m\u001b[43mkwargs\u001b[49m\u001b[43m)\u001b[49m\n\u001b[0;32m    214\u001b[0m \u001b[38;5;28;01mexcept\u001b[39;00m InvalidParameterError \u001b[38;5;28;01mas\u001b[39;00m e:\n\u001b[0;32m    215\u001b[0m     \u001b[38;5;66;03m# When the function is just a wrapper around an estimator, we allow\u001b[39;00m\n\u001b[0;32m    216\u001b[0m     \u001b[38;5;66;03m# the function to delegate validation to the estimator, but we replace\u001b[39;00m\n\u001b[0;32m    217\u001b[0m     \u001b[38;5;66;03m# the name of the estimator by the name of the function in the error\u001b[39;00m\n\u001b[0;32m    218\u001b[0m     \u001b[38;5;66;03m# message to avoid confusion.\u001b[39;00m\n\u001b[0;32m    219\u001b[0m     msg \u001b[38;5;241m=\u001b[39m re\u001b[38;5;241m.\u001b[39msub(\n\u001b[0;32m    220\u001b[0m         \u001b[38;5;124mr\u001b[39m\u001b[38;5;124m\"\u001b[39m\u001b[38;5;124mparameter of \u001b[39m\u001b[38;5;124m\\\u001b[39m\u001b[38;5;124mw+ must be\u001b[39m\u001b[38;5;124m\"\u001b[39m,\n\u001b[0;32m    221\u001b[0m         \u001b[38;5;124mf\u001b[39m\u001b[38;5;124m\"\u001b[39m\u001b[38;5;124mparameter of \u001b[39m\u001b[38;5;132;01m{\u001b[39;00mfunc\u001b[38;5;241m.\u001b[39m\u001b[38;5;18m__qualname__\u001b[39m\u001b[38;5;132;01m}\u001b[39;00m\u001b[38;5;124m must be\u001b[39m\u001b[38;5;124m\"\u001b[39m,\n\u001b[0;32m    222\u001b[0m         \u001b[38;5;28mstr\u001b[39m(e),\n\u001b[0;32m    223\u001b[0m     )\n",
            "File \u001b[1;32mc:\\Users\\abdem\\miniconda3\\envs\\recom-env\\Lib\\site-packages\\sklearn\\metrics\\pairwise.py:1685\u001b[0m, in \u001b[0;36mcosine_similarity\u001b[1;34m(X, Y, dense_output)\u001b[0m\n\u001b[0;32m   1683\u001b[0m     Y_normalized \u001b[38;5;241m=\u001b[39m X_normalized\n\u001b[0;32m   1684\u001b[0m \u001b[38;5;28;01melse\u001b[39;00m:\n\u001b[1;32m-> 1685\u001b[0m     Y_normalized \u001b[38;5;241m=\u001b[39m \u001b[43mnormalize\u001b[49m\u001b[43m(\u001b[49m\u001b[43mY\u001b[49m\u001b[43m,\u001b[49m\u001b[43m \u001b[49m\u001b[43mcopy\u001b[49m\u001b[38;5;241;43m=\u001b[39;49m\u001b[38;5;28;43;01mTrue\u001b[39;49;00m\u001b[43m)\u001b[49m\n\u001b[0;32m   1687\u001b[0m K \u001b[38;5;241m=\u001b[39m safe_sparse_dot(X_normalized, Y_normalized\u001b[38;5;241m.\u001b[39mT, dense_output\u001b[38;5;241m=\u001b[39mdense_output)\n\u001b[0;32m   1689\u001b[0m \u001b[38;5;28;01mreturn\u001b[39;00m K\n",
            "File \u001b[1;32mc:\\Users\\abdem\\miniconda3\\envs\\recom-env\\Lib\\site-packages\\sklearn\\utils\\_param_validation.py:186\u001b[0m, in \u001b[0;36mvalidate_params.<locals>.decorator.<locals>.wrapper\u001b[1;34m(*args, **kwargs)\u001b[0m\n\u001b[0;32m    184\u001b[0m global_skip_validation \u001b[38;5;241m=\u001b[39m get_config()[\u001b[38;5;124m\"\u001b[39m\u001b[38;5;124mskip_parameter_validation\u001b[39m\u001b[38;5;124m\"\u001b[39m]\n\u001b[0;32m    185\u001b[0m \u001b[38;5;28;01mif\u001b[39;00m global_skip_validation:\n\u001b[1;32m--> 186\u001b[0m     \u001b[38;5;28;01mreturn\u001b[39;00m \u001b[43mfunc\u001b[49m\u001b[43m(\u001b[49m\u001b[38;5;241;43m*\u001b[39;49m\u001b[43margs\u001b[49m\u001b[43m,\u001b[49m\u001b[43m \u001b[49m\u001b[38;5;241;43m*\u001b[39;49m\u001b[38;5;241;43m*\u001b[39;49m\u001b[43mkwargs\u001b[49m\u001b[43m)\u001b[49m\n\u001b[0;32m    188\u001b[0m func_sig \u001b[38;5;241m=\u001b[39m signature(func)\n\u001b[0;32m    190\u001b[0m \u001b[38;5;66;03m# Map *args/**kwargs to the function signature\u001b[39;00m\n",
            "File \u001b[1;32mc:\\Users\\abdem\\miniconda3\\envs\\recom-env\\Lib\\site-packages\\sklearn\\preprocessing\\_data.py:1933\u001b[0m, in \u001b[0;36mnormalize\u001b[1;34m(X, norm, axis, copy, return_norm)\u001b[0m\n\u001b[0;32m   1929\u001b[0m     sparse_format \u001b[38;5;241m=\u001b[39m \u001b[38;5;124m\"\u001b[39m\u001b[38;5;124mcsr\u001b[39m\u001b[38;5;124m\"\u001b[39m\n\u001b[0;32m   1931\u001b[0m xp, _ \u001b[38;5;241m=\u001b[39m get_namespace(X)\n\u001b[1;32m-> 1933\u001b[0m X \u001b[38;5;241m=\u001b[39m \u001b[43mcheck_array\u001b[49m\u001b[43m(\u001b[49m\n\u001b[0;32m   1934\u001b[0m \u001b[43m    \u001b[49m\u001b[43mX\u001b[49m\u001b[43m,\u001b[49m\n\u001b[0;32m   1935\u001b[0m \u001b[43m    \u001b[49m\u001b[43maccept_sparse\u001b[49m\u001b[38;5;241;43m=\u001b[39;49m\u001b[43msparse_format\u001b[49m\u001b[43m,\u001b[49m\n\u001b[0;32m   1936\u001b[0m \u001b[43m    \u001b[49m\u001b[43mcopy\u001b[49m\u001b[38;5;241;43m=\u001b[39;49m\u001b[43mcopy\u001b[49m\u001b[43m,\u001b[49m\n\u001b[0;32m   1937\u001b[0m \u001b[43m    \u001b[49m\u001b[43mestimator\u001b[49m\u001b[38;5;241;43m=\u001b[39;49m\u001b[38;5;124;43m\"\u001b[39;49m\u001b[38;5;124;43mthe normalize function\u001b[39;49m\u001b[38;5;124;43m\"\u001b[39;49m\u001b[43m,\u001b[49m\n\u001b[0;32m   1938\u001b[0m \u001b[43m    \u001b[49m\u001b[43mdtype\u001b[49m\u001b[38;5;241;43m=\u001b[39;49m\u001b[43m_array_api\u001b[49m\u001b[38;5;241;43m.\u001b[39;49m\u001b[43msupported_float_dtypes\u001b[49m\u001b[43m(\u001b[49m\u001b[43mxp\u001b[49m\u001b[43m)\u001b[49m\u001b[43m,\u001b[49m\n\u001b[0;32m   1939\u001b[0m \u001b[43m    \u001b[49m\u001b[43mforce_writeable\u001b[49m\u001b[38;5;241;43m=\u001b[39;49m\u001b[38;5;28;43;01mTrue\u001b[39;49;00m\u001b[43m,\u001b[49m\n\u001b[0;32m   1940\u001b[0m \u001b[43m\u001b[49m\u001b[43m)\u001b[49m\n\u001b[0;32m   1941\u001b[0m \u001b[38;5;28;01mif\u001b[39;00m axis \u001b[38;5;241m==\u001b[39m \u001b[38;5;241m0\u001b[39m:\n\u001b[0;32m   1942\u001b[0m     X \u001b[38;5;241m=\u001b[39m X\u001b[38;5;241m.\u001b[39mT\n",
            "File \u001b[1;32mc:\\Users\\abdem\\miniconda3\\envs\\recom-env\\Lib\\site-packages\\sklearn\\utils\\validation.py:1064\u001b[0m, in \u001b[0;36mcheck_array\u001b[1;34m(array, accept_sparse, accept_large_sparse, dtype, order, copy, force_writeable, force_all_finite, ensure_2d, allow_nd, ensure_min_samples, ensure_min_features, estimator, input_name)\u001b[0m\n\u001b[0;32m   1058\u001b[0m     \u001b[38;5;28;01mraise\u001b[39;00m \u001b[38;5;167;01mValueError\u001b[39;00m(\n\u001b[0;32m   1059\u001b[0m         \u001b[38;5;124m\"\u001b[39m\u001b[38;5;124mFound array with dim \u001b[39m\u001b[38;5;132;01m%d\u001b[39;00m\u001b[38;5;124m. \u001b[39m\u001b[38;5;132;01m%s\u001b[39;00m\u001b[38;5;124m expected <= 2.\u001b[39m\u001b[38;5;124m\"\u001b[39m\n\u001b[0;32m   1060\u001b[0m         \u001b[38;5;241m%\u001b[39m (array\u001b[38;5;241m.\u001b[39mndim, estimator_name)\n\u001b[0;32m   1061\u001b[0m     )\n\u001b[0;32m   1063\u001b[0m \u001b[38;5;28;01mif\u001b[39;00m force_all_finite:\n\u001b[1;32m-> 1064\u001b[0m     \u001b[43m_assert_all_finite\u001b[49m\u001b[43m(\u001b[49m\n\u001b[0;32m   1065\u001b[0m \u001b[43m        \u001b[49m\u001b[43marray\u001b[49m\u001b[43m,\u001b[49m\n\u001b[0;32m   1066\u001b[0m \u001b[43m        \u001b[49m\u001b[43minput_name\u001b[49m\u001b[38;5;241;43m=\u001b[39;49m\u001b[43minput_name\u001b[49m\u001b[43m,\u001b[49m\n\u001b[0;32m   1067\u001b[0m \u001b[43m        \u001b[49m\u001b[43mestimator_name\u001b[49m\u001b[38;5;241;43m=\u001b[39;49m\u001b[43mestimator_name\u001b[49m\u001b[43m,\u001b[49m\n\u001b[0;32m   1068\u001b[0m \u001b[43m        \u001b[49m\u001b[43mallow_nan\u001b[49m\u001b[38;5;241;43m=\u001b[39;49m\u001b[43mforce_all_finite\u001b[49m\u001b[43m \u001b[49m\u001b[38;5;241;43m==\u001b[39;49m\u001b[43m \u001b[49m\u001b[38;5;124;43m\"\u001b[39;49m\u001b[38;5;124;43mallow-nan\u001b[39;49m\u001b[38;5;124;43m\"\u001b[39;49m\u001b[43m,\u001b[49m\n\u001b[0;32m   1069\u001b[0m \u001b[43m    \u001b[49m\u001b[43m)\u001b[49m\n\u001b[0;32m   1071\u001b[0m \u001b[38;5;28;01mif\u001b[39;00m copy:\n\u001b[0;32m   1072\u001b[0m     \u001b[38;5;28;01mif\u001b[39;00m _is_numpy_namespace(xp):\n\u001b[0;32m   1073\u001b[0m         \u001b[38;5;66;03m# only make a copy if `array` and `array_orig` may share memory`\u001b[39;00m\n",
            "File \u001b[1;32mc:\\Users\\abdem\\miniconda3\\envs\\recom-env\\Lib\\site-packages\\sklearn\\utils\\validation.py:119\u001b[0m, in \u001b[0;36m_assert_all_finite\u001b[1;34m(X, allow_nan, msg_dtype, estimator_name, input_name)\u001b[0m\n\u001b[0;32m    114\u001b[0m \u001b[38;5;66;03m# First try an O(n) time, O(1) space solution for the common case that\u001b[39;00m\n\u001b[0;32m    115\u001b[0m \u001b[38;5;66;03m# everything is finite; fall back to O(n) space `np.isinf/isnan` or custom\u001b[39;00m\n\u001b[0;32m    116\u001b[0m \u001b[38;5;66;03m# Cython implementation to prevent false positives and provide a detailed\u001b[39;00m\n\u001b[0;32m    117\u001b[0m \u001b[38;5;66;03m# error message.\u001b[39;00m\n\u001b[0;32m    118\u001b[0m \u001b[38;5;28;01mwith\u001b[39;00m np\u001b[38;5;241m.\u001b[39merrstate(over\u001b[38;5;241m=\u001b[39m\u001b[38;5;124m\"\u001b[39m\u001b[38;5;124mignore\u001b[39m\u001b[38;5;124m\"\u001b[39m):\n\u001b[1;32m--> 119\u001b[0m     first_pass_isfinite \u001b[38;5;241m=\u001b[39m xp\u001b[38;5;241m.\u001b[39misfinite(\u001b[43mxp\u001b[49m\u001b[38;5;241;43m.\u001b[39;49m\u001b[43msum\u001b[49m\u001b[43m(\u001b[49m\u001b[43mX\u001b[49m\u001b[43m)\u001b[49m)\n\u001b[0;32m    120\u001b[0m \u001b[38;5;28;01mif\u001b[39;00m first_pass_isfinite:\n\u001b[0;32m    121\u001b[0m     \u001b[38;5;28;01mreturn\u001b[39;00m\n",
            "File \u001b[1;32mc:\\Users\\abdem\\miniconda3\\envs\\recom-env\\Lib\\site-packages\\numpy\\core\\fromnumeric.py:2313\u001b[0m, in \u001b[0;36msum\u001b[1;34m(a, axis, dtype, out, keepdims, initial, where)\u001b[0m\n\u001b[0;32m   2310\u001b[0m         \u001b[38;5;28;01mreturn\u001b[39;00m out\n\u001b[0;32m   2311\u001b[0m     \u001b[38;5;28;01mreturn\u001b[39;00m res\n\u001b[1;32m-> 2313\u001b[0m \u001b[38;5;28;01mreturn\u001b[39;00m \u001b[43m_wrapreduction\u001b[49m\u001b[43m(\u001b[49m\u001b[43ma\u001b[49m\u001b[43m,\u001b[49m\u001b[43m \u001b[49m\u001b[43mnp\u001b[49m\u001b[38;5;241;43m.\u001b[39;49m\u001b[43madd\u001b[49m\u001b[43m,\u001b[49m\u001b[43m \u001b[49m\u001b[38;5;124;43m'\u001b[39;49m\u001b[38;5;124;43msum\u001b[39;49m\u001b[38;5;124;43m'\u001b[39;49m\u001b[43m,\u001b[49m\u001b[43m \u001b[49m\u001b[43maxis\u001b[49m\u001b[43m,\u001b[49m\u001b[43m \u001b[49m\u001b[43mdtype\u001b[49m\u001b[43m,\u001b[49m\u001b[43m \u001b[49m\u001b[43mout\u001b[49m\u001b[43m,\u001b[49m\u001b[43m \u001b[49m\u001b[43mkeepdims\u001b[49m\u001b[38;5;241;43m=\u001b[39;49m\u001b[43mkeepdims\u001b[49m\u001b[43m,\u001b[49m\n\u001b[0;32m   2314\u001b[0m \u001b[43m                      \u001b[49m\u001b[43minitial\u001b[49m\u001b[38;5;241;43m=\u001b[39;49m\u001b[43minitial\u001b[49m\u001b[43m,\u001b[49m\u001b[43m \u001b[49m\u001b[43mwhere\u001b[49m\u001b[38;5;241;43m=\u001b[39;49m\u001b[43mwhere\u001b[49m\u001b[43m)\u001b[49m\n",
            "File \u001b[1;32mc:\\Users\\abdem\\miniconda3\\envs\\recom-env\\Lib\\site-packages\\numpy\\core\\fromnumeric.py:88\u001b[0m, in \u001b[0;36m_wrapreduction\u001b[1;34m(obj, ufunc, method, axis, dtype, out, **kwargs)\u001b[0m\n\u001b[0;32m     85\u001b[0m         \u001b[38;5;28;01melse\u001b[39;00m:\n\u001b[0;32m     86\u001b[0m             \u001b[38;5;28;01mreturn\u001b[39;00m reduction(axis\u001b[38;5;241m=\u001b[39maxis, out\u001b[38;5;241m=\u001b[39mout, \u001b[38;5;241m*\u001b[39m\u001b[38;5;241m*\u001b[39mpasskwargs)\n\u001b[1;32m---> 88\u001b[0m \u001b[38;5;28;01mreturn\u001b[39;00m \u001b[43mufunc\u001b[49m\u001b[38;5;241;43m.\u001b[39;49m\u001b[43mreduce\u001b[49m\u001b[43m(\u001b[49m\u001b[43mobj\u001b[49m\u001b[43m,\u001b[49m\u001b[43m \u001b[49m\u001b[43maxis\u001b[49m\u001b[43m,\u001b[49m\u001b[43m \u001b[49m\u001b[43mdtype\u001b[49m\u001b[43m,\u001b[49m\u001b[43m \u001b[49m\u001b[43mout\u001b[49m\u001b[43m,\u001b[49m\u001b[43m \u001b[49m\u001b[38;5;241;43m*\u001b[39;49m\u001b[38;5;241;43m*\u001b[39;49m\u001b[43mpasskwargs\u001b[49m\u001b[43m)\u001b[49m\n",
            "\u001b[1;31mKeyboardInterrupt\u001b[0m: "
          ]
        }
      ],
      "source": [
        "def recommend_user_attention(row):\n",
        "    category_embeddings = np.stack(news_data['category_embeddings'].values)\n",
        "    subcategory_embeddings = np.stack(news_data['category_embeddings'].values)\n",
        "    context_embeddings = np.stack(news_data['category_embeddings'].values)\n",
        "\n",
        "    user_item_similarity_matrix = np.array([\n",
        "        cosine_similarity([row['user_profile']['category']], category_embeddings)[0],\n",
        "        cosine_similarity([row['user_profile']['subcategory']], subcategory_embeddings)[0],\n",
        "        cosine_similarity([row['user_profile']['context']], context_embeddings)[0]])\n",
        "\n",
        "    attention_weight = (np.exp(user_item_similarity_matrix) / np.sum(np.exp(user_item_similarity_matrix), axis=0)).T\n",
        "\n",
        "    attention_weighted_embeddings = ((attention_weight[:, 0].reshape(-1, 1) * category_embeddings) +\n",
        "                   (attention_weight[:, 1].reshape(-1, 1) * subcategory_embeddings) +\n",
        "                   (attention_weight[:, 2].reshape(-1, 1) * context_embeddings))\n",
        "\n",
        "    user_profile = (row['user_profile']['category'] + row['user_profile']['subcategory'] + row['user_profile']['context']) / 3\n",
        "\n",
        "    return list(news_data.index[np.argsort(cosine_similarity([user_profile], attention_weighted_embeddings)[0])[:20]])\n",
        "\n",
        "\n",
        "customer_behaviour_data['Recommended Articles'] = customer_behaviour_data.progress_apply(recommend_user_attention, axis=1)\n",
        "user_impression_data = customer_behaviour_data.drop(columns=['History', 'user_profile'])\n",
        "user_impression_data"
      ]
    },
    {
      "cell_type": "code",
      "execution_count": 9,
      "metadata": {
        "colab": {
          "base_uri": "https://localhost:8080/",
          "height": 423
        },
        "id": "v5j1ID9HMvBl",
        "outputId": "fd318913-92b1-4066-9361-23444ee7cb4d"
      },
      "outputs": [
        {
          "ename": "NameError",
          "evalue": "name 'user_impression_data' is not defined",
          "output_type": "error",
          "traceback": [
            "\u001b[1;31m---------------------------------------------------------------------------\u001b[0m",
            "\u001b[1;31mNameError\u001b[0m                                 Traceback (most recent call last)",
            "Cell \u001b[1;32mIn[9], line 4\u001b[0m\n\u001b[0;32m      1\u001b[0m \u001b[38;5;28;01mdef\u001b[39;00m \u001b[38;5;21mfind_intersection\u001b[39m(row):\n\u001b[0;32m      2\u001b[0m     \u001b[38;5;28;01mreturn\u001b[39;00m \u001b[38;5;28mlist\u001b[39m(\u001b[38;5;28mset\u001b[39m(row[\u001b[38;5;124m'\u001b[39m\u001b[38;5;124mRecommended Articles\u001b[39m\u001b[38;5;124m'\u001b[39m])\u001b[38;5;241m.\u001b[39mintersection(\u001b[38;5;28mset\u001b[39m(row[\u001b[38;5;124m'\u001b[39m\u001b[38;5;124mImpressions\u001b[39m\u001b[38;5;124m'\u001b[39m])))\n\u001b[1;32m----> 4\u001b[0m user_impression_data[\u001b[38;5;124m'\u001b[39m\u001b[38;5;124mIntersection\u001b[39m\u001b[38;5;124m'\u001b[39m] \u001b[38;5;241m=\u001b[39m \u001b[43muser_impression_data\u001b[49m\u001b[38;5;241m.\u001b[39mapply(find_intersection, axis\u001b[38;5;241m=\u001b[39m\u001b[38;5;241m1\u001b[39m)\n\u001b[0;32m      5\u001b[0m user_impression_data\n",
            "\u001b[1;31mNameError\u001b[0m: name 'user_impression_data' is not defined"
          ]
        }
      ],
      "source": [
        "def find_intersection(row):\n",
        "    return list(set(row['Recommended Articles']).intersection(set(row['Impressions'])))\n",
        "\n",
        "user_impression_data['Intersection'] = user_impression_data.apply(find_intersection, axis=1)\n",
        "user_impression_data"
      ]
    },
    {
      "cell_type": "code",
      "execution_count": null,
      "metadata": {
        "colab": {
          "base_uri": "https://localhost:8080/"
        },
        "id": "kRVr2lv1MvBl",
        "outputId": "81b49215-7520-4620-a934-b0012289162c"
      },
      "outputs": [],
      "source": [
        "def calculate_precision(row):\n",
        "    if len(row[\"Recommended Articles\"]) == 0:\n",
        "        return 0\n",
        "    return len(row[\"Intersection\"]) / (len(row[\"Intersection\"]) + (len(row[\"Recommended Articles\"]) - len(row[\"Intersection\"])))\n",
        "\n",
        "user_impression_data['Precision'] = user_impression_data.apply(calculate_precision, axis=1)\n",
        "user_impression_data[\"Precision\"].mean()"
      ]
    },
    {
      "cell_type": "code",
      "execution_count": null,
      "metadata": {
        "colab": {
          "base_uri": "https://localhost:8080/"
        },
        "id": "j62EleRqMvBm",
        "outputId": "f7bbfa31-bc72-4ab9-9e1e-848f6a5c6ac4"
      },
      "outputs": [],
      "source": [
        "def calculate_recall(row):\n",
        "    return len(row[\"Intersection\"]) / (len(row[\"Intersection\"]) + len(list(set(row[\"Impressions\"]) - set(row[\"Recommended Articles\"]))))\n",
        "\n",
        "user_impression_data['Recall'] = user_impression_data.apply(calculate_recall, axis=1)\n",
        "user_impression_data[\"Recall\"].mean()"
      ]
    },
    {
      "cell_type": "code",
      "execution_count": null,
      "metadata": {},
      "outputs": [],
      "source": [
        "def calculate_f1_score(row):\n",
        "    if row['Precision'] == 0 and row['Recall'] == 0:\n",
        "        return 0\n",
        "    return (2 * row['Precision'] * row['Recall']) / (row['Precision'] + row['Recall'])\n",
        "\n",
        "user_impression_data['F1 Score'] = user_impression_data.apply(calculate_f1_score, axis=1)\n",
        "user_impression_data['F1 Score'].mean()"
      ]
    },
    {
      "cell_type": "code",
      "execution_count": null,
      "metadata": {
        "colab": {
          "base_uri": "https://localhost:8080/"
        },
        "id": "g7PRAs5qMvBm",
        "outputId": "5134e139-5b17-411c-d258-e3f57750a9f1"
      },
      "outputs": [],
      "source": [
        "def calculate_f_beta(row):\n",
        "    beta = 2\n",
        "\n",
        "    if row['Precision'] == 0 and row['Recall'] == 0:\n",
        "        return 0\n",
        "    return ((1 + (beta ** 2)) * row['Precision'] * row['Recall']) / ((beta ** 2) * (row['Precision']) + row['Recall'])\n",
        "\n",
        "user_impression_data['F-Beta Score'] = user_impression_data.apply(calculate_f_beta, axis=1)\n",
        "user_impression_data['F-Beta Score'].mean()"
      ]
    },
    {
      "cell_type": "code",
      "execution_count": 11,
      "metadata": {
        "id": "40I2SZnsMvBm"
      },
      "outputs": [],
      "source": [
        "user_impression_data.to_csv('../data/results/user_item_similarity_approach_results_train.csv', index=False)"
      ]
    },
    {
      "cell_type": "markdown",
      "metadata": {
        "id": "CLvu5rGIMvBm"
      },
      "source": [
        "#### Validation Data"
      ]
    },
    {
      "cell_type": "code",
      "execution_count": null,
      "metadata": {
        "id": "DBlpmQ-HMvBm",
        "outputId": "a5093f6a-9860-4080-af05-2f14e9376d58"
      },
      "outputs": [],
      "source": [
        "news_column_headers = [\"News ID\", \"Category\", \"SubCategory\", \"Title\", \"Abstract\", \"URL\", \"Title Entities\", \"Abstract Entities\"]\n",
        "\n",
        "news_data = pd.read_csv('../data/mind-news-dataset/MINDsmall_train/news.tsv', delimiter='\\t', names=news_column_headers)\n",
        "news_data_val = pd.read_csv('../data/mind-news-dataset/MINDsmall_dev/news.tsv', delimiter='\\t', names=news_column_headers)\n",
        "\n",
        "news_data = pd.concat([news_data, news_data_val], ignore_index=True).drop_duplicates(subset=['News ID']).reset_index(drop=True)\n",
        "news_data = news_data.drop(columns=['URL', 'Title Entities', 'Abstract Entities'])\n",
        "\n",
        "news_data['Abstract'] = news_data['Abstract'].fillna('')\n",
        "\n",
        "news_data['Context'] = news_data['Title'] + ' ' + news_data['Abstract']\n",
        "news_data = news_data.drop(columns=[\"Title\", \"Abstract\"])\n",
        "\n",
        "news_data = news_data.set_index('News ID')\n",
        "news_data"
      ]
    },
    {
      "cell_type": "code",
      "execution_count": null,
      "metadata": {},
      "outputs": [],
      "source": [
        "def compute_embeddings(row):\n",
        "    return list(embeddings_model(row)._.trf_data.last_hidden_layer_state.data.mean(axis=0))\n",
        "\n",
        "news_data['category_embeddings'] = news_data['Category'].progress_apply(compute_embeddings)\n",
        "news_data['subcategory_embeddings'] = news_data['SubCategory'].progress_apply(compute_embeddings)\n",
        "news_data['context_embeddings'] = news_data['Context'].progress_apply(compute_embeddings)"
      ]
    },
    {
      "cell_type": "code",
      "execution_count": null,
      "metadata": {},
      "outputs": [],
      "source": [
        "news_data.head()"
      ]
    },
    {
      "cell_type": "code",
      "execution_count": null,
      "metadata": {
        "id": "gt8KQkLyMvBm"
      },
      "outputs": [],
      "source": [
        "behaviour_column_headers = [\"Impression ID\", \"User ID\", \"Time\", \"History\", \"Impressions\"]\n",
        "\n",
        "customer_behaviour_data = pd.read_csv(\n",
        "    '../data/mind-news-dataset/MINDsmall_train/behaviors.tsv', delimiter='\\t', names=behaviour_column_headers).dropna(subset=['History'])\n",
        "\n",
        "customer_behaviour_data['History'] = customer_behaviour_data['History'].str.split(' ')\n",
        "customer_behaviour_data['Impressions'] = customer_behaviour_data['Impressions'].str.split(' ')\n",
        "\n",
        "def clean_impressions(impression_list):\n",
        "    return [x.split('-')[0] for x in impression_list if x.endswith('1')]\n",
        "\n",
        "customer_behaviour_data['Impressions'] = customer_behaviour_data['Impressions'].apply(clean_impressions)\n",
        "customer_behaviour_data = customer_behaviour_data.drop(columns=['Impression ID', 'Time'])\n",
        "\n",
        "impression_data = customer_behaviour_data.groupby('User ID', as_index=False)['Impressions'].agg(lambda x: [item for sublist in x for item in sublist])\n",
        "user_history_data = customer_behaviour_data.groupby('User ID', as_index=False)['History'].agg(lambda x: list(set().union(*x)))\n",
        "\n",
        "customer_behaviour_data = pd.merge(user_history_data, impression_data, on='User ID', how='left')\n",
        "customer_behaviour_data"
      ]
    },
    {
      "cell_type": "code",
      "execution_count": null,
      "metadata": {
        "id": "gG3PurfZMvBm"
      },
      "outputs": [],
      "source": [
        "def compute_user_profile(history):\n",
        "    user_news_history = news_data[news_data.index.isin(history)][['category_embeddings', 'subcategory_embeddings', 'context_embeddings']]\n",
        "\n",
        "    return {'category': np.array([list(embeddings) for embeddings in user_news_history['category_embeddings'].values]).mean(axis=0),\n",
        "            'subcategory': np.array([list(embeddings) for embeddings in user_news_history['subcategory_embeddings'].values]).mean(axis=0),\n",
        "            'context': np.array([list(embeddings) for embeddings in user_news_history['context_embeddings'].values]).mean(axis=0)}\n",
        "\n",
        "customer_behaviour_data['user_profile'] = customer_behaviour_data['History'].progress_apply(compute_user_profile)\n",
        "customer_behaviour_data"
      ]
    },
    {
      "cell_type": "code",
      "execution_count": null,
      "metadata": {},
      "outputs": [],
      "source": [
        "def recommend_user_attention(row):\n",
        "    category_embeddings = np.stack(news_data['category_embeddings'].values)\n",
        "    subcategory_embeddings = np.stack(news_data['category_embeddings'].values)\n",
        "    context_embeddings = np.stack(news_data['category_embeddings'].values)\n",
        "\n",
        "    user_item_similarity_matrix = np.array([\n",
        "        cosine_similarity([row['user_profile']['category']], category_embeddings)[0],\n",
        "        cosine_similarity([row['user_profile']['subcategory']], subcategory_embeddings)[0],\n",
        "        cosine_similarity([row['user_profile']['context']], context_embeddings)[0]])\n",
        "\n",
        "    attention_weight = (np.exp(user_item_similarity_matrix) / np.sum(np.exp(user_item_similarity_matrix), axis=0)).T\n",
        "\n",
        "    attention_weighted_embeddings = ((attention_weight[:, 0].reshape(-1, 1) * category_embeddings) +\n",
        "                   (attention_weight[:, 1].reshape(-1, 1) * subcategory_embeddings) +\n",
        "                   (attention_weight[:, 2].reshape(-1, 1) * context_embeddings))\n",
        "\n",
        "    user_profile = (row['user_profile']['category'] + row['user_profile']['subcategory'] + row['user_profile']['context']) / 3\n",
        "\n",
        "    return list(news_data.index[np.argsort(cosine_similarity([user_profile], attention_weighted_embeddings)[0])[:20]])\n",
        "\n",
        "\n",
        "customer_behaviour_data['Recommended Articles'] = customer_behaviour_data.progress_apply(recommend_user_attention, axis=1)\n",
        "user_impression_data = customer_behaviour_data.drop(columns=['History', 'user_profile'])\n",
        "user_impression_data"
      ]
    },
    {
      "cell_type": "code",
      "execution_count": null,
      "metadata": {
        "id": "RjnNFSD9MvBm"
      },
      "outputs": [],
      "source": [
        "def find_intersection(row):\n",
        "    return list(set(row['Recommended Articles']).intersection(set(row['Impressions'])))\n",
        "\n",
        "user_impression_data['Intersection'] = user_impression_data.apply(find_intersection, axis=1)\n",
        "user_impression_data"
      ]
    },
    {
      "cell_type": "code",
      "execution_count": null,
      "metadata": {
        "id": "HlWA0YouMvBm"
      },
      "outputs": [],
      "source": [
        "def calculate_precision(row):\n",
        "    if len(row[\"Recommended Articles\"]) == 0:\n",
        "        return 0\n",
        "    return len(row[\"Intersection\"]) / (len(row[\"Intersection\"]) + (len(row[\"Recommended Articles\"]) - len(row[\"Intersection\"])))\n",
        "\n",
        "user_impression_data['Precision'] = user_impression_data.apply(calculate_precision, axis=1)\n",
        "user_impression_data[\"Precision\"].mean()"
      ]
    },
    {
      "cell_type": "code",
      "execution_count": null,
      "metadata": {
        "id": "VUjnK0ddMvBm"
      },
      "outputs": [],
      "source": [
        "def calculate_recall(row):\n",
        "    return len(row[\"Intersection\"]) / (len(row[\"Intersection\"]) + len(list(set(row[\"Impressions\"]) - set(row[\"Recommended Articles\"]))))\n",
        "\n",
        "user_impression_data['Recall'] = user_impression_data.apply(calculate_recall, axis=1)\n",
        "user_impression_data[\"Recall\"].mean()"
      ]
    },
    {
      "cell_type": "code",
      "execution_count": null,
      "metadata": {
        "id": "RrJUUyqkMvBm"
      },
      "outputs": [],
      "source": [
        "def calculate_f1_score(row):\n",
        "    if row['Precision'] == 0 and row['Recall'] == 0:\n",
        "        return 0\n",
        "    return (2 * row['Precision'] * row['Recall']) / (row['Precision'] + row['Recall'])\n",
        "\n",
        "user_impression_data['F1 Score'] = user_impression_data.apply(calculate_f1_score, axis=1)\n",
        "user_impression_data['F1 Score'].mean()"
      ]
    },
    {
      "cell_type": "code",
      "execution_count": null,
      "metadata": {},
      "outputs": [],
      "source": [
        "def calculate_f_beta(row):\n",
        "    beta = 2\n",
        "\n",
        "    if row['Precision'] == 0 and row['Recall'] == 0:\n",
        "        return 0\n",
        "    return ((1 + (beta ** 2)) * row['Precision'] * row['Recall']) / ((beta ** 2) * (row['Precision']) + row['Recall'])\n",
        "\n",
        "user_impression_data['F-Beta Score'] = user_impression_data.apply(calculate_f_beta, axis=1)\n",
        "user_impression_data['F-Beta Score'].mean()"
      ]
    },
    {
      "cell_type": "code",
      "execution_count": 20,
      "metadata": {
        "id": "dyA3LeE3MvBm"
      },
      "outputs": [],
      "source": [
        "user_impression_data.to_csv('../data/results/content_based_approach_results_test.csv', index=False)"
      ]
    },
    {
      "cell_type": "code",
      "execution_count": null,
      "metadata": {
        "id": "Ebuo0P-rMvBm"
      },
      "outputs": [],
      "source": []
    }
  ],
  "metadata": {
    "colab": {
      "provenance": []
    },
    "kernelspec": {
      "display_name": "adv-ml",
      "language": "python",
      "name": "python3"
    },
    "language_info": {
      "codemirror_mode": {
        "name": "ipython",
        "version": 3
      },
      "file_extension": ".py",
      "mimetype": "text/x-python",
      "name": "python",
      "nbconvert_exporter": "python",
      "pygments_lexer": "ipython3",
      "version": "3.11.9"
    }
  },
  "nbformat": 4,
  "nbformat_minor": 0
}
